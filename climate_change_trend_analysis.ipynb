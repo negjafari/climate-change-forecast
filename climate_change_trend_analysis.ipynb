{
  "nbformat": 4,
  "nbformat_minor": 0,
  "metadata": {
    "colab": {
      "provenance": []
    },
    "kernelspec": {
      "name": "python3",
      "display_name": "Python 3"
    },
    "language_info": {
      "name": "python"
    }
  },
  "cells": [
    {
      "cell_type": "code",
      "execution_count": null,
      "metadata": {
        "colab": {
          "base_uri": "https://localhost:8080/"
        },
        "id": "PVOcvfDj3_oL",
        "outputId": "1d3ea7e9-5238-4243-e417-ab422f350e91"
      },
      "outputs": [
        {
          "output_type": "stream",
          "name": "stdout",
          "text": [
            "Mounted at /content/drive\n"
          ]
        }
      ],
      "source": [
        "from google.colab import drive\n",
        "drive.mount('/content/drive')\n",
        "\n",
        "import pandas as pd\n",
        "\n",
        "df = pd.read_csv('/content/drive/My Drive/climate dataset/GlobalTemperatures.csv')"
      ]
    },
    {
      "cell_type": "code",
      "source": [
        "df.describe()"
      ],
      "metadata": {
        "colab": {
          "base_uri": "https://localhost:8080/",
          "height": 300
        },
        "id": "ItFIeSZ-7irW",
        "outputId": "01386284-a436-41ec-c95c-a1020decc4a5"
      },
      "execution_count": null,
      "outputs": [
        {
          "output_type": "execute_result",
          "data": {
            "text/plain": [
              "       AverageTemperature  AverageTemperatureUncertainty\n",
              "count       228175.000000                  228175.000000\n",
              "mean            18.125969                       0.969343\n",
              "std             10.024800                       0.979644\n",
              "min            -26.772000                       0.040000\n",
              "25%             12.710000                       0.340000\n",
              "50%             20.428000                       0.592000\n",
              "75%             25.918000                       1.320000\n",
              "max             38.283000                      14.037000"
            ],
            "text/html": [
              "\n",
              "  <div id=\"df-6cd06311-af69-46fa-8e8a-7ac2708fc2ab\" class=\"colab-df-container\">\n",
              "    <div>\n",
              "<style scoped>\n",
              "    .dataframe tbody tr th:only-of-type {\n",
              "        vertical-align: middle;\n",
              "    }\n",
              "\n",
              "    .dataframe tbody tr th {\n",
              "        vertical-align: top;\n",
              "    }\n",
              "\n",
              "    .dataframe thead th {\n",
              "        text-align: right;\n",
              "    }\n",
              "</style>\n",
              "<table border=\"1\" class=\"dataframe\">\n",
              "  <thead>\n",
              "    <tr style=\"text-align: right;\">\n",
              "      <th></th>\n",
              "      <th>AverageTemperature</th>\n",
              "      <th>AverageTemperatureUncertainty</th>\n",
              "    </tr>\n",
              "  </thead>\n",
              "  <tbody>\n",
              "    <tr>\n",
              "      <th>count</th>\n",
              "      <td>228175.000000</td>\n",
              "      <td>228175.000000</td>\n",
              "    </tr>\n",
              "    <tr>\n",
              "      <th>mean</th>\n",
              "      <td>18.125969</td>\n",
              "      <td>0.969343</td>\n",
              "    </tr>\n",
              "    <tr>\n",
              "      <th>std</th>\n",
              "      <td>10.024800</td>\n",
              "      <td>0.979644</td>\n",
              "    </tr>\n",
              "    <tr>\n",
              "      <th>min</th>\n",
              "      <td>-26.772000</td>\n",
              "      <td>0.040000</td>\n",
              "    </tr>\n",
              "    <tr>\n",
              "      <th>25%</th>\n",
              "      <td>12.710000</td>\n",
              "      <td>0.340000</td>\n",
              "    </tr>\n",
              "    <tr>\n",
              "      <th>50%</th>\n",
              "      <td>20.428000</td>\n",
              "      <td>0.592000</td>\n",
              "    </tr>\n",
              "    <tr>\n",
              "      <th>75%</th>\n",
              "      <td>25.918000</td>\n",
              "      <td>1.320000</td>\n",
              "    </tr>\n",
              "    <tr>\n",
              "      <th>max</th>\n",
              "      <td>38.283000</td>\n",
              "      <td>14.037000</td>\n",
              "    </tr>\n",
              "  </tbody>\n",
              "</table>\n",
              "</div>\n",
              "    <div class=\"colab-df-buttons\">\n",
              "\n",
              "  <div class=\"colab-df-container\">\n",
              "    <button class=\"colab-df-convert\" onclick=\"convertToInteractive('df-6cd06311-af69-46fa-8e8a-7ac2708fc2ab')\"\n",
              "            title=\"Convert this dataframe to an interactive table.\"\n",
              "            style=\"display:none;\">\n",
              "\n",
              "  <svg xmlns=\"http://www.w3.org/2000/svg\" height=\"24px\" viewBox=\"0 -960 960 960\">\n",
              "    <path d=\"M120-120v-720h720v720H120Zm60-500h600v-160H180v160Zm220 220h160v-160H400v160Zm0 220h160v-160H400v160ZM180-400h160v-160H180v160Zm440 0h160v-160H620v160ZM180-180h160v-160H180v160Zm440 0h160v-160H620v160Z\"/>\n",
              "  </svg>\n",
              "    </button>\n",
              "\n",
              "  <style>\n",
              "    .colab-df-container {\n",
              "      display:flex;\n",
              "      gap: 12px;\n",
              "    }\n",
              "\n",
              "    .colab-df-convert {\n",
              "      background-color: #E8F0FE;\n",
              "      border: none;\n",
              "      border-radius: 50%;\n",
              "      cursor: pointer;\n",
              "      display: none;\n",
              "      fill: #1967D2;\n",
              "      height: 32px;\n",
              "      padding: 0 0 0 0;\n",
              "      width: 32px;\n",
              "    }\n",
              "\n",
              "    .colab-df-convert:hover {\n",
              "      background-color: #E2EBFA;\n",
              "      box-shadow: 0px 1px 2px rgba(60, 64, 67, 0.3), 0px 1px 3px 1px rgba(60, 64, 67, 0.15);\n",
              "      fill: #174EA6;\n",
              "    }\n",
              "\n",
              "    .colab-df-buttons div {\n",
              "      margin-bottom: 4px;\n",
              "    }\n",
              "\n",
              "    [theme=dark] .colab-df-convert {\n",
              "      background-color: #3B4455;\n",
              "      fill: #D2E3FC;\n",
              "    }\n",
              "\n",
              "    [theme=dark] .colab-df-convert:hover {\n",
              "      background-color: #434B5C;\n",
              "      box-shadow: 0px 1px 3px 1px rgba(0, 0, 0, 0.15);\n",
              "      filter: drop-shadow(0px 1px 2px rgba(0, 0, 0, 0.3));\n",
              "      fill: #FFFFFF;\n",
              "    }\n",
              "  </style>\n",
              "\n",
              "    <script>\n",
              "      const buttonEl =\n",
              "        document.querySelector('#df-6cd06311-af69-46fa-8e8a-7ac2708fc2ab button.colab-df-convert');\n",
              "      buttonEl.style.display =\n",
              "        google.colab.kernel.accessAllowed ? 'block' : 'none';\n",
              "\n",
              "      async function convertToInteractive(key) {\n",
              "        const element = document.querySelector('#df-6cd06311-af69-46fa-8e8a-7ac2708fc2ab');\n",
              "        const dataTable =\n",
              "          await google.colab.kernel.invokeFunction('convertToInteractive',\n",
              "                                                    [key], {});\n",
              "        if (!dataTable) return;\n",
              "\n",
              "        const docLinkHtml = 'Like what you see? Visit the ' +\n",
              "          '<a target=\"_blank\" href=https://colab.research.google.com/notebooks/data_table.ipynb>data table notebook</a>'\n",
              "          + ' to learn more about interactive tables.';\n",
              "        element.innerHTML = '';\n",
              "        dataTable['output_type'] = 'display_data';\n",
              "        await google.colab.output.renderOutput(dataTable, element);\n",
              "        const docLink = document.createElement('div');\n",
              "        docLink.innerHTML = docLinkHtml;\n",
              "        element.appendChild(docLink);\n",
              "      }\n",
              "    </script>\n",
              "  </div>\n",
              "\n",
              "\n",
              "<div id=\"df-4f5e44df-8a41-4785-b30e-849630145372\">\n",
              "  <button class=\"colab-df-quickchart\" onclick=\"quickchart('df-4f5e44df-8a41-4785-b30e-849630145372')\"\n",
              "            title=\"Suggest charts\"\n",
              "            style=\"display:none;\">\n",
              "\n",
              "<svg xmlns=\"http://www.w3.org/2000/svg\" height=\"24px\"viewBox=\"0 0 24 24\"\n",
              "     width=\"24px\">\n",
              "    <g>\n",
              "        <path d=\"M19 3H5c-1.1 0-2 .9-2 2v14c0 1.1.9 2 2 2h14c1.1 0 2-.9 2-2V5c0-1.1-.9-2-2-2zM9 17H7v-7h2v7zm4 0h-2V7h2v10zm4 0h-2v-4h2v4z\"/>\n",
              "    </g>\n",
              "</svg>\n",
              "  </button>\n",
              "\n",
              "<style>\n",
              "  .colab-df-quickchart {\n",
              "      --bg-color: #E8F0FE;\n",
              "      --fill-color: #1967D2;\n",
              "      --hover-bg-color: #E2EBFA;\n",
              "      --hover-fill-color: #174EA6;\n",
              "      --disabled-fill-color: #AAA;\n",
              "      --disabled-bg-color: #DDD;\n",
              "  }\n",
              "\n",
              "  [theme=dark] .colab-df-quickchart {\n",
              "      --bg-color: #3B4455;\n",
              "      --fill-color: #D2E3FC;\n",
              "      --hover-bg-color: #434B5C;\n",
              "      --hover-fill-color: #FFFFFF;\n",
              "      --disabled-bg-color: #3B4455;\n",
              "      --disabled-fill-color: #666;\n",
              "  }\n",
              "\n",
              "  .colab-df-quickchart {\n",
              "    background-color: var(--bg-color);\n",
              "    border: none;\n",
              "    border-radius: 50%;\n",
              "    cursor: pointer;\n",
              "    display: none;\n",
              "    fill: var(--fill-color);\n",
              "    height: 32px;\n",
              "    padding: 0;\n",
              "    width: 32px;\n",
              "  }\n",
              "\n",
              "  .colab-df-quickchart:hover {\n",
              "    background-color: var(--hover-bg-color);\n",
              "    box-shadow: 0 1px 2px rgba(60, 64, 67, 0.3), 0 1px 3px 1px rgba(60, 64, 67, 0.15);\n",
              "    fill: var(--button-hover-fill-color);\n",
              "  }\n",
              "\n",
              "  .colab-df-quickchart-complete:disabled,\n",
              "  .colab-df-quickchart-complete:disabled:hover {\n",
              "    background-color: var(--disabled-bg-color);\n",
              "    fill: var(--disabled-fill-color);\n",
              "    box-shadow: none;\n",
              "  }\n",
              "\n",
              "  .colab-df-spinner {\n",
              "    border: 2px solid var(--fill-color);\n",
              "    border-color: transparent;\n",
              "    border-bottom-color: var(--fill-color);\n",
              "    animation:\n",
              "      spin 1s steps(1) infinite;\n",
              "  }\n",
              "\n",
              "  @keyframes spin {\n",
              "    0% {\n",
              "      border-color: transparent;\n",
              "      border-bottom-color: var(--fill-color);\n",
              "      border-left-color: var(--fill-color);\n",
              "    }\n",
              "    20% {\n",
              "      border-color: transparent;\n",
              "      border-left-color: var(--fill-color);\n",
              "      border-top-color: var(--fill-color);\n",
              "    }\n",
              "    30% {\n",
              "      border-color: transparent;\n",
              "      border-left-color: var(--fill-color);\n",
              "      border-top-color: var(--fill-color);\n",
              "      border-right-color: var(--fill-color);\n",
              "    }\n",
              "    40% {\n",
              "      border-color: transparent;\n",
              "      border-right-color: var(--fill-color);\n",
              "      border-top-color: var(--fill-color);\n",
              "    }\n",
              "    60% {\n",
              "      border-color: transparent;\n",
              "      border-right-color: var(--fill-color);\n",
              "    }\n",
              "    80% {\n",
              "      border-color: transparent;\n",
              "      border-right-color: var(--fill-color);\n",
              "      border-bottom-color: var(--fill-color);\n",
              "    }\n",
              "    90% {\n",
              "      border-color: transparent;\n",
              "      border-bottom-color: var(--fill-color);\n",
              "    }\n",
              "  }\n",
              "</style>\n",
              "\n",
              "  <script>\n",
              "    async function quickchart(key) {\n",
              "      const quickchartButtonEl =\n",
              "        document.querySelector('#' + key + ' button');\n",
              "      quickchartButtonEl.disabled = true;  // To prevent multiple clicks.\n",
              "      quickchartButtonEl.classList.add('colab-df-spinner');\n",
              "      try {\n",
              "        const charts = await google.colab.kernel.invokeFunction(\n",
              "            'suggestCharts', [key], {});\n",
              "      } catch (error) {\n",
              "        console.error('Error during call to suggestCharts:', error);\n",
              "      }\n",
              "      quickchartButtonEl.classList.remove('colab-df-spinner');\n",
              "      quickchartButtonEl.classList.add('colab-df-quickchart-complete');\n",
              "    }\n",
              "    (() => {\n",
              "      let quickchartButtonEl =\n",
              "        document.querySelector('#df-4f5e44df-8a41-4785-b30e-849630145372 button');\n",
              "      quickchartButtonEl.style.display =\n",
              "        google.colab.kernel.accessAllowed ? 'block' : 'none';\n",
              "    })();\n",
              "  </script>\n",
              "</div>\n",
              "    </div>\n",
              "  </div>\n"
            ],
            "application/vnd.google.colaboratory.intrinsic+json": {
              "type": "dataframe",
              "summary": "{\n  \"name\": \"df\",\n  \"rows\": 8,\n  \"fields\": [\n    {\n      \"column\": \"AverageTemperature\",\n      \"properties\": {\n        \"dtype\": \"number\",\n        \"std\": 80667.06108530317,\n        \"min\": -26.772,\n        \"max\": 228175.0,\n        \"num_unique_values\": 8,\n        \"samples\": [\n          18.125968852854168,\n          20.428,\n          228175.0\n        ],\n        \"semantic_type\": \"\",\n        \"description\": \"\"\n      }\n    },\n    {\n      \"column\": \"AverageTemperatureUncertainty\",\n      \"properties\": {\n        \"dtype\": \"number\",\n        \"std\": 80671.12185669159,\n        \"min\": 0.04,\n        \"max\": 228175.0,\n        \"num_unique_values\": 8,\n        \"samples\": [\n          0.9693434381505424,\n          0.5920000000000001,\n          228175.0\n        ],\n        \"semantic_type\": \"\",\n        \"description\": \"\"\n      }\n    }\n  ]\n}"
            }
          },
          "metadata": {},
          "execution_count": 2
        }
      ]
    },
    {
      "cell_type": "code",
      "source": [
        "# Get unique city names\n",
        "unique_cities = df['City'].unique()\n",
        "print(unique_cities)"
      ],
      "metadata": {
        "colab": {
          "base_uri": "https://localhost:8080/"
        },
        "id": "U9slJ6XrN7T7",
        "outputId": "04301965-6b84-4c57-c3bb-386970f84ea7"
      },
      "execution_count": null,
      "outputs": [
        {
          "output_type": "stream",
          "name": "stdout",
          "text": [
            "['Århus' 'Çorlu' 'Çorum' ... 'Zurich' 'Zuwarah' 'Zwolle']\n"
          ]
        }
      ]
    },
    {
      "cell_type": "code",
      "source": [
        "import pandas as pd\n",
        "\n",
        "# Checking for missing values\n",
        "missing_data = df.isnull().sum()\n",
        "missing_percentage = (missing_data / len(df)) * 100\n",
        "print(missing_percentage)"
      ],
      "metadata": {
        "colab": {
          "base_uri": "https://localhost:8080/"
        },
        "id": "om4aIU0HAeAG",
        "outputId": "c7bebcf4-f2a6-461e-b6b1-c7fe9df7519e"
      },
      "execution_count": null,
      "outputs": [
        {
          "output_type": "stream",
          "name": "stdout",
          "text": [
            "dt                                            0.000000\n",
            "LandAverageTemperature                        0.375940\n",
            "LandAverageTemperatureUncertainty             0.375940\n",
            "LandMaxTemperature                           37.593985\n",
            "LandMaxTemperatureUncertainty                37.593985\n",
            "LandMinTemperature                           37.593985\n",
            "LandMinTemperatureUncertainty                37.593985\n",
            "LandAndOceanAverageTemperature               37.593985\n",
            "LandAndOceanAverageTemperatureUncertainty    37.593985\n",
            "dtype: float64\n"
          ]
        }
      ]
    },
    {
      "cell_type": "code",
      "source": [
        "import matplotlib.pyplot as plt\n",
        "\n",
        "# Calculate the number of missing values in each column\n",
        "missing_values = df.isnull().sum()\n",
        "\n",
        "# Plot a bar chart to visualize missing values\n",
        "missing_values[missing_values > 0].plot(kind='bar', figsize=(10, 6))\n",
        "plt.title('Missing Values Count per Column')\n",
        "plt.ylabel('Number of Missing Values')\n",
        "plt.xlabel('Columns')\n",
        "plt.show()\n"
      ],
      "metadata": {
        "colab": {
          "base_uri": "https://localhost:8080/",
          "height": 882
        },
        "id": "UWfcVS9EBZ19",
        "outputId": "4a610d1d-2ed2-4785-f6ec-bdb0d6f6f494"
      },
      "execution_count": null,
      "outputs": [
        {
          "output_type": "display_data",
          "data": {
            "text/plain": [
              "<Figure size 1000x600 with 1 Axes>"
            ],
            "image/png": "[encoded data removed]"
          },
          "metadata": {}
        }
      ]
    },
    {
      "cell_type": "code",
      "source": [
        "# Assuming 'Date' column is set as datetime\n",
        "df['dt'] = pd.to_datetime(df['dt'])\n",
        "\n",
        "# Set 'Date' as the index for easier plotting over time\n",
        "df.set_index('dt', inplace=True)\n",
        "\n",
        "# Plot missing values over time\n",
        "plt.figure(figsize=(12, 6))\n",
        "plt.plot(df.isnull().sum(axis=1), 'r.')\n",
        "plt.title('Missing Values Over Time')\n",
        "plt.ylabel('Number of Missing Values')\n",
        "plt.xlabel('Date')\n",
        "plt.show()\n"
      ],
      "metadata": {
        "colab": {
          "base_uri": "https://localhost:8080/",
          "height": 564
        },
        "id": "whW-t71gCMVp",
        "outputId": "e45413be-b62a-4f91-d115-23c1fb1f0903"
      },
      "execution_count": null,
      "outputs": [
        {
          "output_type": "display_data",
          "data": {
            "text/plain": [
              "<Figure size 1200x600 with 1 Axes>"
            ],
            "image/png": "[encoded data removed]"
          },
          "metadata": {}
        }
      ]
    },
    {
      "cell_type": "code",
      "source": [
        "# Check for missing values\n",
        "missing_values = df.isnull().sum()\n",
        "\n",
        "# Total missing values\n",
        "total_missing = missing_values.sum()\n",
        "\n",
        "# Percentage of missing values per column\n",
        "missing_percentage = (missing_values / len(df)) * 100\n",
        "\n",
        "# Display missing values with percentage\n",
        "missing_data = pd.DataFrame({'Missing Values': missing_values, 'Percentage': missing_percentage})\n",
        "missing_data = missing_data[missing_data['Missing Values'] > 0].sort_values(by='Percentage', ascending=False)\n",
        "print(missing_data)\n"
      ],
      "metadata": {
        "colab": {
          "base_uri": "https://localhost:8080/"
        },
        "id": "F8DCSZZi8Eo7",
        "outputId": "d74c18f4-a05a-4350-aa43-c58277091225"
      },
      "execution_count": null,
      "outputs": [
        {
          "output_type": "stream",
          "name": "stdout",
          "text": [
            "                               Missing Values  Percentage\n",
            "AverageTemperature                      11002    4.599941\n",
            "AverageTemperatureUncertainty           11002    4.599941\n"
          ]
        }
      ]
    },
    {
      "cell_type": "code",
      "source": [
        "num_rows = df.shape[0]\n",
        "print(\"Total number of rows:\", num_rows)"
      ],
      "metadata": {
        "colab": {
          "base_uri": "https://localhost:8080/"
        },
        "id": "jDXuA9cy9Y0C",
        "outputId": "c00cf005-2cc6-4ae9-9596-33ca9a9d1375"
      },
      "execution_count": null,
      "outputs": [
        {
          "output_type": "stream",
          "name": "stdout",
          "text": [
            "Total number of rows: 239177\n"
          ]
        }
      ]
    },
    {
      "cell_type": "code",
      "source": [
        "print(\"First Row:\")\n",
        "for column, value in df.iloc[0].items():\n",
        "  print(f\"{column}: {value}\")\n",
        "\n",
        "print(\"\\nLast Row:\")\n",
        "for column, value in df.iloc[-1].items():\n",
        "  print(f\"{column}: {value}\")\n"
      ],
      "metadata": {
        "colab": {
          "base_uri": "https://localhost:8080/"
        },
        "id": "OOKwbrat96xR",
        "outputId": "5f1b9436-da68-49e1-afab-ce240f399fd5"
      },
      "execution_count": null,
      "outputs": [
        {
          "output_type": "stream",
          "name": "stdout",
          "text": [
            "First Row:\n",
            "dt: 1849-01-01\n",
            "AverageTemperature: 26.704\n",
            "AverageTemperatureUncertainty: 1.435\n",
            "City: Abidjan\n",
            "Country: Côte D'Ivoire\n",
            "Latitude: 5.63N\n",
            "Longitude: 3.23W\n",
            "\n",
            "Last Row:\n",
            "dt: 2013-09-01\n",
            "AverageTemperature: nan\n",
            "AverageTemperatureUncertainty: nan\n",
            "City: Xian\n",
            "Country: China\n",
            "Latitude: 34.56N\n",
            "Longitude: 108.97E\n"
          ]
        }
      ]
    },
    {
      "cell_type": "code",
      "source": [
        "import pandas as pd\n",
        "\n",
        "# Define two dates in the format 'YYYY-MM-DD'\n",
        "start = df.iloc[0]['dt']\n",
        "end = df.iloc[-1]['dt']\n",
        "\n",
        "print(start)\n",
        "print(end)\n",
        "\n",
        "# Convert the strings to datetime format\n",
        "start_date = pd.to_datetime(start)\n",
        "end_date = pd.to_datetime(end)\n",
        "\n",
        "# Calculate the difference (time duration) between the two dates\n",
        "duration = end_date - start_date\n",
        "\n",
        "# Output the duration in days\n",
        "print(f\"{duration.days} days\")\n"
      ],
      "metadata": {
        "colab": {
          "base_uri": "https://localhost:8080/"
        },
        "id": "PET39kStC4NE",
        "outputId": "4956bf04-93c3-40f5-8a1f-a5a6b84cb1a4"
      },
      "execution_count": null,
      "outputs": [
        {
          "output_type": "stream",
          "name": "stdout",
          "text": [
            "1750-01-01\n",
            "2015-12-01\n",
            "97123 days\n"
          ]
        }
      ]
    },
    {
      "cell_type": "markdown",
      "source": [
        "*97123 is 266 years*\n",
        "\n",
        "\n",
        "---\n",
        "\n",
        "\n",
        "*266 years is 3192 month*\n",
        "\n",
        "\n",
        "---\n",
        "\n",
        "\n",
        "*apparently there is no missing date in this time period*"
      ],
      "metadata": {
        "id": "4QdzEAJjFZA_"
      }
    },
    {
      "cell_type": "code",
      "source": [
        "df['dt'] = pd.to_datetime(df['dt'])\n",
        "df['Month'] = df['dt'].dt.month\n",
        "grouped_by_month = df.groupby('Month')\n"
      ],
      "metadata": {
        "id": "yBF698_-wXfN"
      },
      "execution_count": null,
      "outputs": []
    },
    {
      "cell_type": "code",
      "source": [
        "# Create a dictionary to store DataFrames for each month\n",
        "monthly_data = {}\n",
        "\n",
        "# Loop through each month and store the data in the dictionary\n",
        "for month, data in grouped_by_month:\n",
        "    monthly_data[month] = data"
      ],
      "metadata": {
        "id": "fW2DiYzIwn5z"
      },
      "execution_count": null,
      "outputs": []
    },
    {
      "cell_type": "code",
      "source": [
        "january_data = monthly_data[0]\n",
        "print(january_data.head())  # Preview the first few rows for January"
      ],
      "metadata": {
        "colab": {
          "base_uri": "https://localhost:8080/"
        },
        "collapsed": true,
        "id": "R67T8uW6wpA0",
        "outputId": "591fb7c9-06b9-4e4e-bdf8-d8b33553eab3"
      },
      "execution_count": null,
      "outputs": [
        {
          "output_type": "stream",
          "name": "stdout",
          "text": [
            "           dt  LandAverageTemperature  LandAverageTemperatureUncertainty  \\\n",
            "11 1750-12-01                   2.772                              2.970   \n",
            "23 1751-12-01                     NaN                                NaN   \n",
            "35 1752-12-01                   5.086                              2.982   \n",
            "47 1753-12-01                   0.559                              4.174   \n",
            "59 1754-12-01                   4.587                              3.299   \n",
            "\n",
            "    LandMaxTemperature  LandMaxTemperatureUncertainty  LandMinTemperature  \\\n",
            "11                 NaN                            NaN                 NaN   \n",
            "23                 NaN                            NaN                 NaN   \n",
            "35                 NaN                            NaN                 NaN   \n",
            "47                 NaN                            NaN                 NaN   \n",
            "59                 NaN                            NaN                 NaN   \n",
            "\n",
            "    LandMinTemperatureUncertainty  LandAndOceanAverageTemperature  \\\n",
            "11                            NaN                             NaN   \n",
            "23                            NaN                             NaN   \n",
            "35                            NaN                             NaN   \n",
            "47                            NaN                             NaN   \n",
            "59                            NaN                             NaN   \n",
            "\n",
            "    LandAndOceanAverageTemperatureUncertainty  Month  \n",
            "11                                        NaN     12  \n",
            "23                                        NaN     12  \n",
            "35                                        NaN     12  \n",
            "47                                        NaN     12  \n",
            "59                                        NaN     12  \n"
          ]
        }
      ]
    },
    {
      "cell_type": "code",
      "source": [
        "# Save each month's data to a separate CSV\n",
        "for month, data in monthly_data.items():\n",
        "    data.to_csv(f'month_{month}.csv', index=False)\n"
      ],
      "metadata": {
        "id": "Jq23ORTYwt7q"
      },
      "execution_count": null,
      "outputs": []
    },
    {
      "cell_type": "code",
      "source": [
        "# Count missing values in each column for January\n",
        "january_missing = january_data.isnull().sum()\n",
        "print('January missing value: ')\n",
        "print(january_missing)"
      ],
      "metadata": {
        "colab": {
          "base_uri": "https://localhost:8080/"
        },
        "id": "jG0e3NXDwyvN",
        "outputId": "df12725d-3bce-414f-ff04-5dcfa2e41074"
      },
      "execution_count": null,
      "outputs": [
        {
          "output_type": "stream",
          "name": "stdout",
          "text": [
            "December missing value: \n",
            "dt                                             0\n",
            "LandAverageTemperature                         1\n",
            "LandAverageTemperatureUncertainty              1\n",
            "LandMaxTemperature                           100\n",
            "LandMaxTemperatureUncertainty                100\n",
            "LandMinTemperature                           100\n",
            "LandMinTemperatureUncertainty                100\n",
            "LandAndOceanAverageTemperature               100\n",
            "LandAndOceanAverageTemperatureUncertainty    100\n",
            "Month                                          0\n",
            "dtype: int64\n"
          ]
        }
      ]
    },
    {
      "cell_type": "code",
      "source": [
        "print(len(january_data))"
      ],
      "metadata": {
        "colab": {
          "base_uri": "https://localhost:8080/"
        },
        "id": "n8B7iEsXycy0",
        "outputId": "0e018b24-9687-4b37-902d-68d7550da330"
      },
      "execution_count": null,
      "outputs": [
        {
          "output_type": "stream",
          "name": "stdout",
          "text": [
            "266\n"
          ]
        }
      ]
    },
    {
      "cell_type": "code",
      "source": [],
      "metadata": {
        "id": "-A72UqbinohN"
      },
      "execution_count": null,
      "outputs": []
    }
  ]
}